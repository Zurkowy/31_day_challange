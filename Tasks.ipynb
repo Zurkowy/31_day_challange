{
 "cells": [
  {
   "cell_type": "markdown",
   "metadata": {},
   "source": [
    "# **DAY 1**\n",
    "###### *Przygotuj funkcję **lowercase**, która jako argument przyjmie łańcuch znaków(string) różnej wielkości i zwróci go napisanego w całości małymi literami.*"
   ]
  },
  {
   "cell_type": "code",
   "execution_count": null,
   "metadata": {},
   "outputs": [],
   "source": [
    "# Solution 1\n",
    "\n",
    "def lowercase_1(string):\n",
    "    return string.lower()  "
   ]
  },
  {
   "cell_type": "code",
   "execution_count": null,
   "metadata": {},
   "outputs": [],
   "source": [
    "# Solution 2\n",
    "import string\n",
    "\n",
    "lowers = list(string.ascii_lowercase)\n",
    "uppers = list(string.ascii_uppercase)\n",
    "\n",
    "def lowercase_2(string):\n",
    "    result = \"\"\n",
    "    \n",
    "    for char in string:\n",
    "        if char in lowers:\n",
    "            result += char\n",
    "        elif char in uppers:\n",
    "            result += lowers[uppers.index(char)]\n",
    "        else:\n",
    "            result += char\n",
    "            \n",
    "    return result   "
   ]
  },
  {
   "cell_type": "code",
   "execution_count": null,
   "metadata": {},
   "outputs": [],
   "source": [
    "# Solution 3\n",
    "\n",
    "def lowercase_3(string):\n",
    "    result = \"\"\n",
    "    \n",
    "    for char in string:\n",
    "        if ord(char) in range(65,90 + 1):\n",
    "            result += chr(ord(char) + 32)\n",
    "        else:\n",
    "            result += char\n",
    "            \n",
    "    return result"
   ]
  },
  {
   "cell_type": "markdown",
   "metadata": {},
   "source": [
    "# **DAY 2**\n",
    "###### *Przygotuj funkcję **switch_case**, która przyjmując jako argument ciąg znaków, zwróci jego małe litery w postaci wielkich, a wielkie w postaci małych. Zignoruj interpunkcję i inne znaki.*"
   ]
  },
  {
   "cell_type": "code",
   "execution_count": null,
   "metadata": {},
   "outputs": [],
   "source": [
    "# Solution 1\n",
    "\n",
    "def switch_case_1(string):\n",
    "    lowers_ascii = range(97, 122 + 1)\n",
    "    uppers_ascii = range(65, 90 + 1)\n",
    "    result = \"\"\n",
    "    \n",
    "    for char in string:\n",
    "        if ord(char) in lowers_ascii:\n",
    "            result += chr(ord(char) - 32)   \n",
    "        elif ord(char) in uppers_ascii:\n",
    "            result += chr(ord(char) + 32)\n",
    "        else:\n",
    "            result += char\n",
    "            \n",
    "    return(result)"
   ]
  },
  {
   "cell_type": "markdown",
   "metadata": {},
   "source": [
    "# **DAY 3**\n",
    "###### *Przygotuj funkcję **reverse_string**, która zwróci ciąg znaków w odwrotnej kolejności*"
   ]
  },
  {
   "cell_type": "code",
   "execution_count": null,
   "metadata": {},
   "outputs": [],
   "source": [
    "# Solution 1\n",
    "\n",
    "def reverse_string(string):\n",
    "    return(string[::-1])"
   ]
  },
  {
   "cell_type": "markdown",
   "metadata": {},
   "source": [
    "# **DAY 4**\n",
    "###### *Przygotuj funkcję **gerund_infinitive**, która do otrzymanego czasownika zwraca bezokolicznik z przedrostkiem \"to\" (np. doing -> to do). <br>Jeśli słowo nie kończy się na \"ing\", zwróć \"To nie jest rzeczownik odsłowny!\"*"
   ]
  },
  {
   "cell_type": "code",
   "execution_count": null,
   "metadata": {},
   "outputs": [],
   "source": [
    "# Solution 1\n",
    "\n",
    "from nltk.stem import PorterStemmer as PS\n",
    "\n",
    "def gerund_infinitive_1(string):\n",
    "    \n",
    "    if string.isalpha() == True and string[-3::] == \"ing\":\n",
    "        return(f\"To {PS().stem(string).title()}\")\n",
    "    else:\n",
    "        return(\"To nie jest czasownik odsłowny!\")"
   ]
  },
  {
   "cell_type": "code",
   "execution_count": null,
   "metadata": {},
   "outputs": [],
   "source": [
    "words = (\"sing\", \"dying\", \"singing\", \"swimming\", \n",
    "         \"smiling\", \"living\", \"123abc\", \"123abcing\", \n",
    "         \"Makarony Są Smaczneing\", \"abcing\",  \n",
    "         \"MakaronySąSmaczneing\")\n",
    "\n",
    "for word in words:\n",
    "    print(gerund_infinitive_1(word))"
   ]
  },
  {
   "cell_type": "code",
   "execution_count": null,
   "metadata": {},
   "outputs": [],
   "source": [
    "# Solution 2\n",
    "\n",
    "import spacy\n",
    "\n",
    "nlp = spacy.load('en_core_web_sm')\n",
    "\n",
    "def gerund_infinitive_2(string):\n",
    "    doc = nlp(string)\n",
    "    for token in doc:\n",
    "        if token.pos_ == \"VERB\":\n",
    "            return(f\"To {PS().stem(token.lemma_).title()}\")\n",
    "        else:\n",
    "            return(\"To nie jest czasownik odsłowny!\")\n"
   ]
  },
  {
   "cell_type": "code",
   "execution_count": null,
   "metadata": {},
   "outputs": [],
   "source": [
    "words = (\"sing\", \"dying\", \"singing\", \"swimming\", \n",
    "         \"smiling\", \"living\", \"123abc\", \"123abcing\", \n",
    "         \"Makarony Są Smaczneing\", \"abcing\",  \n",
    "         \"MakaronySąSmaczneing\")\n",
    "\n",
    "for word in words:\n",
    "    print(gerund_infinitive_2(word))"
   ]
  },
  {
   "cell_type": "markdown",
   "metadata": {},
   "source": [
    "# **DAY 7**\n",
    "###### *Stwórz funckję **capital_indexes**, która przyjmuje ciąg znaków (string) jako jedyny argument. <br>Twoja funkcja powinna zwracać listę indeksów w tym ciągu, które są napisane z wielkich liter.*"
   ]
  },
  {
   "cell_type": "code",
   "execution_count": 1,
   "metadata": {},
   "outputs": [],
   "source": [
    "# Solution 1\n",
    "\n",
    "def capital_indexes(string):\n",
    "    return [string.index(letter) for letter in string if letter.isalpha() and letter == letter.upper()]"
   ]
  },
  {
   "cell_type": "code",
   "execution_count": 2,
   "metadata": {},
   "outputs": [
    {
     "data": {
      "text/plain": [
       "[0, 2, 4]"
      ]
     },
     "execution_count": 2,
     "metadata": {},
     "output_type": "execute_result"
    }
   ],
   "source": [
    "capital_indexes(\"MaKaRon_+123\")"
   ]
  },
  {
   "cell_type": "markdown",
   "metadata": {},
   "source": [
    "# **DAY 8**\n",
    "###### *Przygotuj funkcję **womansday**, która spyta użytkownika o imię. <br>Jeśli będzie ono kończyło się na \"a\", złoży użytkownikowi życzenia na Dzień Kobiet. W przeciwnym razie, wykona inną czynność (bądź kreatywny).*"
   ]
  },
  {
   "cell_type": "code",
   "execution_count": 1,
   "metadata": {},
   "outputs": [],
   "source": [
    "# Solution 1\n",
    "\n",
    "def womansday():\n",
    "    \n",
    "    male_names = [\n",
    "        \"Atylla\",\"Barnaba\",\"Bogowidza\",\n",
    "        \"Bonawentura\",\"Boruta\",\"Brzezdoma\",\n",
    "        \"Dyzma\",\"Jarema\",\"Kosma\",\"Kuba\",\"Lasota\",\n",
    "        \"Mustafa\",\"Niedoma\",\"Niegodoma\",\"Niemsta\",\n",
    "        \"Niepełka\",\"Niewsza\",\"Przezdoma\",\"Rokita\",\n",
    "        \"Zawisza\",\"Żegota\"]\n",
    "    \n",
    "    while True:\n",
    "        try:\n",
    "            name = input(\"Podaj swoje imię: \")\n",
    "            \n",
    "            if name.isalpha():\n",
    "                break\n",
    "            else:\n",
    "                print(\"Podaj swoje imię poprawnie!\")\n",
    "        except ValueError:\n",
    "            continue\n",
    "    \n",
    "    if name[-1] == \"a\" and name.title() not in male_names:\n",
    "        return(f\"Cześć {name}! Wszystkiego najlepszego z okazji Dnia Kobiet!\")\n",
    "    else:\n",
    "        return(f\"Ej {name}! Kup kwiaty albo chociaż ugotuj makaron...\")\n",
    "        "
   ]
  },
  {
   "cell_type": "markdown",
   "metadata": {},
   "source": [
    "# **DAY 9**\n",
    "###### *Utwórz funkcję **mid**, która przyjmuje ciąg znaków (string) jako argument. <br>Powinna zwrócić jego środkowy element. Jeśli ilość znaków jest parzysta (brak środkowego elementu), funkcja powinna zwracać \"\"*"
   ]
  },
  {
   "cell_type": "code",
   "execution_count": 36,
   "metadata": {},
   "outputs": [],
   "source": [
    "# Solution 1\n",
    "\n",
    "def mid(string):\n",
    "    if isinstance(string, str):\n",
    "        if len(string) % 2 == 0:\n",
    "            return \"\"\n",
    "        else:\n",
    "            return string[len(string)//2]\n",
    "    else:\n",
    "        return \"This is not a string!\""
   ]
  },
  {
   "cell_type": "markdown",
   "metadata": {},
   "source": [
    "# **DAY 10**\n",
    "###### *Stwórz generator śmiesznych imion i nazwisk męskich*"
   ]
  },
  {
   "cell_type": "code",
   "execution_count": 17,
   "metadata": {},
   "outputs": [],
   "source": [
    "import json\n",
    "import spacy\n",
    "import random\n",
    "from spacy_syllables import SpacySyllables\n",
    "\n",
    "nlp = spacy.load('pl_core_news_sm')\n",
    "nlp.add_pipe('syllables', after='tagger')\n",
    "\n",
    "names = json.loads(open(\"name_list.json\", encoding=\"utf-8\").read())\n",
    "surnames = json.loads(open(\"surname_list.json\", encoding=\"utf-8\").read())\n",
    "\n",
    "def name_gen():\n",
    "    names = json.loads(open(\"name_list.json\", encoding=\"utf-8\").read())\n",
    "    surnames = json.loads(open(\"surname_list.json\", encoding=\"utf-8\").read())\n",
    "    \n",
    "    used_names = []\n",
    "    used_surnames = []\n",
    "    \n",
    "    final_name = \"\"\n",
    "    final_surname = \"\"\n",
    "\n",
    "    for x in range(2):\n",
    "        if x == 0:\n",
    "            random_name = random.choice(names).lower()\n",
    "            \n",
    "            doc = nlp(random_name)\n",
    "            \n",
    "            name_data = [\n",
    "                (token._.syllables, token._.syllables_count)\n",
    "                for token in doc]\n",
    "            \n",
    "            name_syllables_list = name_data[0][0]\n",
    "            \n",
    "            final_name += name_syllables_list[0].title()\n",
    "            \n",
    "            used_names.append(random_name)\n",
    "        \n",
    "        else:\n",
    "            random_name = random.choice(names).lower()\n",
    "            \n",
    "            doc = nlp(random_name)\n",
    "            \n",
    "            name_data = [\n",
    "                (token._.syllables, token._.syllables_count)\n",
    "                for token in doc]\n",
    "            \n",
    "            name_syllables_count = name_data[0][1]\n",
    "            name_syllables_list = name_data[0][0]\n",
    "            \n",
    "            final_name += random.choice(name_syllables_list)\n",
    "            \n",
    "            used_names.append(random_name)\n",
    "            \n",
    "    for x in range(2):\n",
    "        if x == 0:\n",
    "            random_surname = random.choice(surnames).lower()\n",
    "            \n",
    "            doc = nlp(random_surname)\n",
    "            \n",
    "            surname_data = [\n",
    "                (token._.syllables, token._.syllables_count)\n",
    "                for token in doc]\n",
    "            \n",
    "            surname_syllables_list = surname_data[0][0]\n",
    "            \n",
    "            final_surname += surname_syllables_list[0].title()\n",
    "            \n",
    "            used_surnames.append(random_surname)\n",
    "        \n",
    "        else:\n",
    "            random_surname = random.choice(surnames).lower()\n",
    "            \n",
    "            doc = nlp(random_surname)\n",
    "            \n",
    "            surname_data = [\n",
    "                (token._.syllables, token._.syllables_count)\n",
    "                for token in doc]\n",
    "            \n",
    "            surname_syllables_count = surname_data[0][1]\n",
    "            surname_syllables_list = surname_data[0][0]\n",
    "            \n",
    "            final_surname += random.choice(surname_syllables_list)\n",
    "            \n",
    "            used_surnames.append(random_surname)\n",
    "    \n",
    "    vowels = [\"a\", \"ą\", \"ó\", \"ę\"]\n",
    "    \n",
    "    if final_name[-1] in vowels:\n",
    "        final_name = final_name[:-1]\n",
    "    \n",
    "    if final_surname[-1] in vowels:\n",
    "        final_surname = final_surname[:-1]\n",
    "            \n",
    "    full_name = f\"{final_name} {final_surname}\"\n",
    "    return full_name, used_names, used_surnames"
   ]
  },
  {
   "cell_type": "code",
   "execution_count": 21,
   "metadata": {},
   "outputs": [
    {
     "name": "stdout",
     "output_type": "stream",
     "text": [
      "('Ignadrzej Woźwit', ['ignacy', 'andrzej'], ['woźniak', 'witkowski'])\n",
      "('Alexrad Janski', ['alex', 'konrad'], ['jankowski', 'olszewski'])\n",
      "('Nik Rutm', ['nikodem', 'kazimierz'], ['rutkowski', 'malinowski'])\n",
      "('Wimierz Jatrow', ['witold', 'kazimierz'], ['jabłoński', 'piotrowski'])\n",
      "('Arto Ziek', ['artur', 'tomasz'], ['zieliński', 'kamiński'])\n",
      "('Wikbiasz Wróbłoń', ['wiktor', 'tobiasz'], ['wróbel', 'jabłoński'])\n",
      "('Rawi Maadam', ['rafał', 'witold'], ['malinowski', 'adamczyk'])\n",
      "('Dary Kojan', ['damian', 'ksawery'], ['kozłowski', 'jankowski'])\n",
      "('Henbru Rutwi', ['henryk', 'bruno'], ['rutkowski', 'wiśniewski'])\n",
      "('Olije Nomań', ['olivier', 'kajetan'], ['nowakowski', 'szymański'])\n"
     ]
    }
   ],
   "source": [
    "for x in range(10):\n",
    "    print(name_gen())"
   ]
  },
  {
   "cell_type": "code",
   "execution_count": null,
   "metadata": {},
   "outputs": [],
   "source": []
  },
  {
   "cell_type": "code",
   "execution_count": null,
   "metadata": {},
   "outputs": [],
   "source": []
  },
  {
   "cell_type": "markdown",
   "metadata": {},
   "source": [
    "# **DAY 11**\n",
    "###### *Dwa ciągi znaków to **anagramy**, jeśli możesz utworzyć jeden z nich, przestawiając jedynie litery drugiego.<br>Napisz funkcję o nazwie **is_anagram**, która jako parametry przyjmuje dwa łańcuchy.<br>Twoja Funkcja powinna zwrócić **True**, jeśli łańcuchy są anagramami oraz **False** w przeciwnym razie.*"
   ]
  },
  {
   "cell_type": "code",
   "execution_count": 2,
   "metadata": {},
   "outputs": [],
   "source": [
    "# Solution 1\n",
    "\n",
    "def is_anagram_1(string_1, string_2):\n",
    "    return sorted(string_1.lower()) == sorted(string_2.lower())\n"
   ]
  },
  {
   "cell_type": "code",
   "execution_count": 3,
   "metadata": {},
   "outputs": [],
   "source": [
    "# Solution 2\n",
    "\n",
    "def is_anagram_2(string_1, string_2):\n",
    "    text_1 = list(string_1.lower())\n",
    "    text_2 = list(string_2.lower())\n",
    "    \n",
    "    if len(text_1) == len(text_2) and text_1 != text_2:   \n",
    "        for char in text_1:\n",
    "            if char in text_2:\n",
    "                text_2.pop(text_2.index(char))\n",
    "            else:\n",
    "                return False      \n",
    "        return True\n",
    "    else:\n",
    "        return False"
   ]
  },
  {
   "cell_type": "code",
   "execution_count": 6,
   "metadata": {},
   "outputs": [],
   "source": [
    "is_anagram_2(\"abc\",\"aaba\")"
   ]
  },
  {
   "cell_type": "markdown",
   "metadata": {},
   "source": [
    "# **DAY 14**\n",
    "###### *Zefiniuj funkcję o nazwie **largest_difference**, która jako jedyny parametr przyjmie listę liczb. Twoja funkcja powinna obliczyć i zwrócić różnicę między największą i najmniejsza liczbą na liście*"
   ]
  },
  {
   "cell_type": "code",
   "execution_count": 4,
   "metadata": {},
   "outputs": [],
   "source": [
    "# Solution 1\n",
    "\n",
    "def largest_difference(numbers):\n",
    "    return max(numbers) - min(numbers)"
   ]
  },
  {
   "cell_type": "code",
   "execution_count": 31,
   "metadata": {},
   "outputs": [
    {
     "name": "stdout",
     "output_type": "stream",
     "text": [
      "[6, 9, 11] 5\n",
      "[9, 19, 18] 10\n",
      "[4, 16, 7] 12\n",
      "[9, 12, 2] 10\n",
      "[9, 7, 1] 8\n",
      "[19, 2, 15] 17\n",
      "[14, 15, 12] 3\n",
      "[12, 10, 16] 6\n",
      "[16, 6, 8] 10\n",
      "[6, 12, 4] 8\n"
     ]
    }
   ],
   "source": [
    "import random\n",
    "\n",
    "for x in range(10):\n",
    "    random_numbs = random.sample(range(1, 20), 3)\n",
    "    print(random_numbs, largest_difference(random_numbs))"
   ]
  },
  {
   "cell_type": "markdown",
   "metadata": {},
   "source": [
    "# **DAY 15**\n",
    "###### *Napisz funkcję o nazwie **add_dots**, która pobiera ciąg i dodaje \"**.**\" pomiędzy każdą literą. Na pr zykład wywołanie add_dots(\"test\") powinno zwrócić \"t.e.s.t.\"*"
   ]
  },
  {
   "cell_type": "code",
   "execution_count": 1,
   "metadata": {},
   "outputs": [],
   "source": [
    "def add_dots(string):\n",
    "    return \".\".join(string)"
   ]
  },
  {
   "cell_type": "code",
   "execution_count": 2,
   "metadata": {},
   "outputs": [
    {
     "name": "stdout",
     "output_type": "stream",
     "text": [
      "s.j.B.V.w\n",
      "e.I.j.b.E\n",
      "D.x.z.G.N\n",
      "l.z.v.W.t\n",
      "x.p.f.p.f\n",
      "P.w.p.Y.j\n",
      "O.N.B.d.U\n",
      "H.Q.R.J.Y\n",
      "c.q.s.R.O\n",
      "t.D.k.j.G\n"
     ]
    }
   ],
   "source": [
    "import string, random\n",
    "\n",
    "for x in range(10):\n",
    "    random_word = \"\".join(random.choices(string.ascii_letters, k = 5))\n",
    "    print(add_dots(random_word))"
   ]
  },
  {
   "cell_type": "markdown",
   "metadata": {},
   "source": [
    "# **DAY 16**\n",
    "###### *Wyrażenie jest palindromem, gdy jest identyczne będać czytane od tyłu.<br>Napisz funkcję **is_palindrome**, która jako parametr przyjmie ciąg znaków.<br>Twoja funkcja powinna zwrócić **True**, jeśli ciąg jest palindromem oraz **False** w przeciwnym razie.*"
   ]
  },
  {
   "cell_type": "code",
   "execution_count": 7,
   "metadata": {},
   "outputs": [],
   "source": [
    "def is_palindrome(string):\n",
    "    return string == string[::-1]"
   ]
  },
  {
   "cell_type": "code",
   "execution_count": 47,
   "metadata": {},
   "outputs": [
    {
     "name": "stdout",
     "output_type": "stream",
     "text": [
      "True False\n",
      "True False\n",
      "True False\n",
      "True False\n",
      "True False\n",
      "True False\n",
      "True False\n",
      "True False\n",
      "True False\n",
      "True False\n",
      "True False\n",
      "True False\n",
      "True False\n",
      "True False\n",
      "True False\n",
      "True False\n",
      "True False\n",
      "True False\n",
      "True False\n"
     ]
    }
   ],
   "source": [
    "import random, string\n",
    "\n",
    "pal_list = [\n",
    "    \"anna\", \"civic\", \"kayak\", \"level\", \"madam\", \"mom\", \"noon\", \n",
    "    \"racecar\", \"radar\", \"redder\", \"refer\", \"repaper\", \"rotator\", \n",
    "    \"rotor\", \"sagas\", \"solos\", \"stats\", \"tenet\", \"wow\"]\n",
    "\n",
    "random_words = [\"\".join(random.choices(string.ascii_letters, k = 5)) for x in range (19)]\n",
    "\n",
    "if len(pal_list) == len(random_words):\n",
    "    for pal, word in zip(pal_list, random_words):\n",
    "        print(is_palindrome(pal), is_palindrome(word))"
   ]
  },
  {
   "cell_type": "markdown",
   "metadata": {},
   "source": [
    "# **DAY 17**\n",
    "###### *Zdefiniuj funkcję **calculate_factorial** obliczającą silnię dla liczby podanej przez użytkownika (będącej nieujemną liczbą całkowitą)*"
   ]
  },
  {
   "cell_type": "code",
   "execution_count": 45,
   "metadata": {},
   "outputs": [],
   "source": [
    "# Solution 1\n",
    "\n",
    "def calculate_factorial(number):\n",
    "    if number < 0:\n",
    "        return ValueError\n",
    "    elif number == 1:\n",
    "        return 1\n",
    "    else:\n",
    "        return number * calculate_factorial(number - 1)"
   ]
  },
  {
   "cell_type": "code",
   "execution_count": 46,
   "metadata": {},
   "outputs": [],
   "source": [
    "# Solution 2\n",
    "\n",
    "import math\n",
    "\n",
    "def calculate_factorial_2(number):\n",
    "    return math.factorial(number)"
   ]
  },
  {
   "cell_type": "code",
   "execution_count": 3,
   "metadata": {},
   "outputs": [],
   "source": [
    "# Solution 3\n",
    "\n",
    "def calculate_factorial_3():\n",
    "    while True:\n",
    "        try:\n",
    "            number = int(input(\"Enter number: \"))\n",
    "            if number >= 0:\n",
    "                break\n",
    "            else:\n",
    "                print(\"Wrong value\")\n",
    "        except ValueError:\n",
    "            print(\"Please enter number\")\n",
    "    \n",
    "    result = 1\n",
    "    if number == 0:\n",
    "        return 1\n",
    "    else:\n",
    "        for x in range(1, number + 1):\n",
    "            result *= x\n",
    "        \n",
    "        return result"
   ]
  },
  {
   "cell_type": "markdown",
   "metadata": {},
   "source": [
    "# **DAY 18**\n",
    "###### *Zdefiniuj funkcję o nazwie **all_equal**, która pobiera listę i sprawzda, czy wszystkie elementy na liscie sa takie same. <br>Na przykład wywołanie all_equal([1,1,1]) powinno zwrócić true."
   ]
  },
  {
   "cell_type": "code",
   "execution_count": 1,
   "metadata": {},
   "outputs": [],
   "source": [
    "# Solution 1\n",
    "\n",
    "def all_equal(my_list):\n",
    "    return all(my_list[0] == element for element in my_list)"
   ]
  },
  {
   "cell_type": "code",
   "execution_count": 5,
   "metadata": {},
   "outputs": [],
   "source": [
    "# Solution 2\n",
    "\n",
    "def all_equal_2(lista):\n",
    "    return len(set(lista)) == 1"
   ]
  },
  {
   "cell_type": "code",
   "execution_count": 6,
   "metadata": {},
   "outputs": [],
   "source": [
    "lista_1 = [1,1,1]\n",
    "lista_2 = [1,2,1]\n",
    "lista_3 = [\"a\",\"b\",\"c\"]\n",
    "lista_4 = [\"a\", \"a\", \"a\"]\n",
    "lista_5 = []"
   ]
  },
  {
   "cell_type": "code",
   "execution_count": 7,
   "metadata": {},
   "outputs": [
    {
     "name": "stdout",
     "output_type": "stream",
     "text": [
      "True True\n",
      "False False\n",
      "False False\n",
      "True True\n",
      "True False\n"
     ]
    }
   ],
   "source": [
    "print(all_equal(lista_1), all_equal_2(lista_1))\n",
    "print(all_equal(lista_2), all_equal_2(lista_2))\n",
    "print(all_equal(lista_3), all_equal_2(lista_3))\n",
    "print(all_equal(lista_4), all_equal_2(lista_4))\n",
    "print(all_equal(lista_5), all_equal_2(lista_5))"
   ]
  },
  {
   "cell_type": "markdown",
   "metadata": {},
   "source": [
    "# **Day 21**\n",
    "\n",
    "###### *Napisz program **move_zero**, który wypycha wszystkie zera na koniec listy.*"
   ]
  },
  {
   "cell_type": "code",
   "execution_count": 6,
   "metadata": {},
   "outputs": [],
   "source": [
    "# Solution 1\n",
    "\n",
    "def move_zero(my_list):\n",
    "    return sorted(my_list, key = lambda x: x == 0)"
   ]
  },
  {
   "cell_type": "code",
   "execution_count": 7,
   "metadata": {},
   "outputs": [],
   "source": [
    "assert move_zero([1, 2, 0, 1, 0, 1, 0, 3, 0, 1]) == [1, 2, 1, 1, 3, 1, 0, 0, 0, 0]"
   ]
  },
  {
   "cell_type": "markdown",
   "metadata": {},
   "source": [
    "# **Day 22**\n",
    "\n",
    "###### *Napisz funkcję **perfectly_balanced**, która majac string zawierający tylko znaki x i y sprawdzi czy liczba znaków x i y jest taka sama*"
   ]
  },
  {
   "cell_type": "code",
   "execution_count": 1,
   "metadata": {},
   "outputs": [],
   "source": [
    "# Solution 1\n",
    "\n",
    "def perfectly_balanced(string):\n",
    "    x, y = set(string)\n",
    "    return string.count(x) == string.count(y)"
   ]
  },
  {
   "cell_type": "code",
   "execution_count": 2,
   "metadata": {},
   "outputs": [],
   "source": [
    "assert perfectly_balanced(\"abba\") == True\n",
    "assert perfectly_balanced(\"aba\") == False\n",
    "assert perfectly_balanced(\"122\") == False\n",
    "assert perfectly_balanced(\"xyxy\") == True"
   ]
  },
  {
   "cell_type": "code",
   "execution_count": 3,
   "metadata": {},
   "outputs": [],
   "source": [
    "# Solution 2\n",
    "\n",
    "def perfectly_balanced_2(string):\n",
    "    return string.count(sorted(string)[0]) == string.count(sorted(string)[-1])"
   ]
  },
  {
   "cell_type": "code",
   "execution_count": 4,
   "metadata": {},
   "outputs": [],
   "source": [
    "assert perfectly_balanced_2(\"abba\") == True\n",
    "assert perfectly_balanced_2(\"aba\") == False\n",
    "assert perfectly_balanced_2(\"122\") == False\n",
    "assert perfectly_balanced_2(\"xyxy\") == True"
   ]
  },
  {
   "cell_type": "markdown",
   "metadata": {},
   "source": [
    "# **Day 23**\n",
    "\n",
    "###### *Napisz funkcję **is_ugly**, która sprawdzi, czy podana liczba jest ugly number.<br>Ugly numbers to te liczby, których czynniki pierwsze to jedynie 2,3,5.*"
   ]
  },
  {
   "cell_type": "code",
   "execution_count": 1,
   "metadata": {},
   "outputs": [],
   "source": [
    "# Solution 1\n",
    "\n",
    "def is_ugly(number):\n",
    "    if number <= 0:\n",
    "        return False\n",
    "    for prime_factor in [2, 3, 5]:\n",
    "        while number % prime_factor == 0:\n",
    "            number /= prime_factor\n",
    "    return number == 1"
   ]
  },
  {
   "cell_type": "code",
   "execution_count": 2,
   "metadata": {},
   "outputs": [],
   "source": [
    "# Solution 2\n",
    "\n",
    "def is_ugly_2(number):\n",
    "    if number >= 1:\n",
    "        for prime_factor in [2, 3, 5]:\n",
    "            while number % prime_factor == 0:\n",
    "                number /= prime_factor\n",
    "        return number == 1\n",
    "    return False"
   ]
  },
  {
   "cell_type": "code",
   "execution_count": 3,
   "metadata": {},
   "outputs": [
    {
     "name": "stdout",
     "output_type": "stream",
     "text": [
      "0\tFalse\tFalse\n",
      "1\tTrue\tTrue\n",
      "2\tTrue\tTrue\n",
      "3\tTrue\tTrue\n",
      "4\tTrue\tTrue\n",
      "5\tTrue\tTrue\n",
      "6\tTrue\tTrue\n",
      "7\tFalse\tFalse\n",
      "8\tTrue\tTrue\n",
      "9\tTrue\tTrue\n",
      "10\tTrue\tTrue\n",
      "11\tFalse\tFalse\n",
      "12\tTrue\tTrue\n",
      "13\tFalse\tFalse\n",
      "14\tFalse\tFalse\n"
     ]
    }
   ],
   "source": [
    "for number in range(15):\n",
    "    print(f\"{number}\\t{is_ugly(number)}\\t{is_ugly_2(number)}\")"
   ]
  },
  {
   "cell_type": "markdown",
   "metadata": {},
   "source": [
    "# **Day 24**\n",
    "\n",
    "###### *Napisz funkcję **is_geometric**, która sprawdzi czy podana przez użytkownika sekwencja liczb jest ciągiem geometrycznym.*"
   ]
  },
  {
   "cell_type": "code",
   "execution_count": 1,
   "metadata": {},
   "outputs": [],
   "source": [
    "# Solution 1\n",
    "\n",
    "def is_geometric(my_list):\n",
    "    \n",
    "    quotient = my_list[1]/my_list[0]\n",
    "    \n",
    "    for number in range(2, len(my_list)):\n",
    "        if my_list[number]/my_list[number-1] != quotient:\n",
    "            return False\n",
    "    \n",
    "    return True"
   ]
  },
  {
   "cell_type": "code",
   "execution_count": 2,
   "metadata": {},
   "outputs": [],
   "source": [
    "# Solution 2\n",
    "\n",
    "def is_geometric_2(my_list):\n",
    "    return len(set([my_list[number]/my_list[number-1] for number in range(1, len(my_list))])) == 1"
   ]
  },
  {
   "cell_type": "code",
   "execution_count": 3,
   "metadata": {},
   "outputs": [
    {
     "name": "stdout",
     "output_type": "stream",
     "text": [
      "Sol_1:\tFalse\tTrue\t\tSol_2:\tFalse\tTrue\n",
      "Sol_1:\tFalse\tTrue\t\tSol_2:\tFalse\tTrue\n",
      "Sol_1:\tFalse\tTrue\t\tSol_2:\tFalse\tTrue\n",
      "Sol_1:\tFalse\tTrue\t\tSol_2:\tFalse\tTrue\n",
      "Sol_1:\tFalse\tTrue\t\tSol_2:\tFalse\tTrue\n",
      "Sol_1:\tFalse\tFalse\t\tSol_2:\tFalse\tFalse\n"
     ]
    }
   ],
   "source": [
    "arit_seq = [\n",
    "    [1,2,3,4,5,6,7,8],\n",
    "    [-3,-2,-1,1,2,3,4,5,6,7],\n",
    "    [6,8,10,12,14,16],\n",
    "    [11,8,5,2,-1],\n",
    "    [1,2,4,8,16,24],\n",
    "    [3,2,1]]\n",
    "\n",
    "geo_seq = [\n",
    "    [1,2,4,8,16,32,64,128],\n",
    "    [3,9,27,81,243],\n",
    "    [2,6,18,54,162],\n",
    "    [4,-20,100,-500,2500],\n",
    "    [8,8,8,8,8],\n",
    "    [1,4,8,53]]\n",
    "\n",
    "for arit, geo in zip(arit_seq, geo_seq):\n",
    "    print(f\"Sol_1:\\t{is_geometric(arit)}\\t{is_geometric(geo)}\\t\\tSol_2:\\t{is_geometric_2(arit)}\\t{is_geometric_2(geo)}\")"
   ]
  },
  {
   "cell_type": "markdown",
   "metadata": {},
   "source": [
    "# **Day 25**\n",
    "\n",
    "###### *Napisz funkcję, która zwróci **ciąg Fibonacciego** aż do **n-tego** wyrazu podanego prze użytkownika.<br> Przyjmujemy, ze 0 wchodzi w skład ciągu*"
   ]
  },
  {
   "cell_type": "code",
   "execution_count": 34,
   "metadata": {},
   "outputs": [],
   "source": [
    "# Solution 1\n",
    "\n",
    "def fibonacci(lenght):\n",
    "    fibo_list = [0, 1]\n",
    "    \n",
    "    if lenght < 0:\n",
    "        return \"Lenght must be positive integer\"\n",
    "    elif lenght in fibo_list:\n",
    "        return lenght\n",
    "    else:\n",
    "        for _ in range(lenght):\n",
    "            fibo_list.append(fibo_list[len(fibo_list) - 1] + fibo_list[len(fibo_list) - 2])\n",
    "    return fibo_list"
   ]
  },
  {
   "cell_type": "code",
   "execution_count": 35,
   "metadata": {},
   "outputs": [
    {
     "name": "stdout",
     "output_type": "stream",
     "text": [
      "[0, 1, 1, 2]\n",
      "[0, 1, 1, 2, 3, 5, 8, 13, 21, 34, 55, 89, 144]\n",
      "Lenght must be positive integer\n"
     ]
    }
   ],
   "source": [
    "print(fibonacci(2))\n",
    "print(fibonacci(11))\n",
    "print(fibonacci(-6))"
   ]
  },
  {
   "cell_type": "markdown",
   "metadata": {},
   "source": [
    "# **Day 28**\n",
    "\n",
    "###### *Napisz funkcję **digit_adder**, która przyjmie liczbę od użytkownika, każdą z jej cyfr transformuje do cyfry o jeden większe i ostatecznie zwróci nową liczbę.<br>Na przykład 998 stanie się 10109*"
   ]
  },
  {
   "cell_type": "code",
   "execution_count": 1,
   "metadata": {},
   "outputs": [],
   "source": [
    "# Solution 1\n",
    "\n",
    "def digit_adder():\n",
    "    while True:\n",
    "        try:\n",
    "            user_number = int(input(\"Enter your number: \"))\n",
    "            break\n",
    "        except ValueError:\n",
    "            print(\"Please try again.\")\n",
    "    \n",
    "    result = \"\"\n",
    "    for number in str(user_number):\n",
    "        result += str(int(number) + 1)\n",
    "        \n",
    "    return int(result)"
   ]
  },
  {
   "cell_type": "code",
   "execution_count": 2,
   "metadata": {},
   "outputs": [],
   "source": [
    "def digit_adder_2(user_number):\n",
    "    return int(\"\".join([str(int(number) + 1) for number in str(user_number)]))"
   ]
  },
  {
   "cell_type": "code",
   "execution_count": 3,
   "metadata": {},
   "outputs": [
    {
     "name": "stdin",
     "output_type": "stream",
     "text": [
      "Enter your number:  998\n"
     ]
    },
    {
     "data": {
      "text/plain": [
       "10109"
      ]
     },
     "execution_count": 3,
     "metadata": {},
     "output_type": "execute_result"
    }
   ],
   "source": [
    "digit_adder()"
   ]
  },
  {
   "cell_type": "code",
   "execution_count": 4,
   "metadata": {},
   "outputs": [
    {
     "data": {
      "text/plain": [
       "10109"
      ]
     },
     "execution_count": 4,
     "metadata": {},
     "output_type": "execute_result"
    }
   ],
   "source": [
    "digit_adder_2(998)"
   ]
  },
  {
   "cell_type": "code",
   "execution_count": null,
   "metadata": {},
   "outputs": [],
   "source": []
  }
 ],
 "metadata": {
  "kernelspec": {
   "display_name": "Python 3",
   "language": "python",
   "name": "python3"
  },
  "language_info": {
   "codemirror_mode": {
    "name": "ipython",
    "version": 3
   },
   "file_extension": ".py",
   "mimetype": "text/x-python",
   "name": "python",
   "nbconvert_exporter": "python",
   "pygments_lexer": "ipython3",
   "version": "3.8.5"
  }
 },
 "nbformat": 4,
 "nbformat_minor": 4
}
