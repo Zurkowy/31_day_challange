{
 "cells": [
  {
   "cell_type": "markdown",
   "metadata": {},
   "source": [
    "# **DAY 1**\n",
    "###### *Przygotuj funkcję **lowercase**, która jako argument przyjmie łańcuch znaków(string) różnej wielkości i zwróci go napisanego w całości małymi literami.*"
   ]
  },
  {
   "cell_type": "code",
   "execution_count": null,
   "metadata": {},
   "outputs": [],
   "source": [
    "# Solution 1\n",
    "\n",
    "def lowercase_1(string):\n",
    "    return string.lower()  "
   ]
  },
  {
   "cell_type": "code",
   "execution_count": null,
   "metadata": {},
   "outputs": [],
   "source": [
    "# Solution 2\n",
    "import string\n",
    "\n",
    "lowers = list(string.ascii_lowercase)\n",
    "uppers = list(string.ascii_uppercase)\n",
    "\n",
    "def lowercase_2(string):\n",
    "    result = \"\"\n",
    "    \n",
    "    for char in string:\n",
    "        if char in lowers:\n",
    "            result += char\n",
    "        elif char in uppers:\n",
    "            result += lowers[uppers.index(char)]\n",
    "        else:\n",
    "            result += char\n",
    "            \n",
    "    return result   "
   ]
  },
  {
   "cell_type": "code",
   "execution_count": null,
   "metadata": {},
   "outputs": [],
   "source": [
    "# Solution 3\n",
    "\n",
    "def lowercase_3(string):\n",
    "    result = \"\"\n",
    "    \n",
    "    for char in string:\n",
    "        if ord(char) in range(65,90 + 1):\n",
    "            result += chr(ord(char) + 32)\n",
    "        else:\n",
    "            result += char\n",
    "            \n",
    "    return result"
   ]
  },
  {
   "cell_type": "markdown",
   "metadata": {},
   "source": [
    "# **DAY 2**\n",
    "###### *Przygotuj funkcję **switch_case**, która przyjmując jako argument ciąg znaków, zwróci jego małe litery w postaci wielkich, a wielkie w postaci małych. Zignoruj interpunkcję i inne znaki.*"
   ]
  },
  {
   "cell_type": "code",
   "execution_count": null,
   "metadata": {},
   "outputs": [],
   "source": [
    "# Solution 1\n",
    "\n",
    "def switch_case_1(string):\n",
    "    lowers_ascii = range(97, 122 + 1)\n",
    "    uppers_ascii = range(65, 90 + 1)\n",
    "    result = \"\"\n",
    "    \n",
    "    for char in string:\n",
    "        if ord(char) in lowers_ascii:\n",
    "            result += chr(ord(char) - 32)   \n",
    "        elif ord(char) in uppers_ascii:\n",
    "            result += chr(ord(char) + 32)\n",
    "        else:\n",
    "            result += char\n",
    "            \n",
    "    return(result)"
   ]
  },
  {
   "cell_type": "markdown",
   "metadata": {},
   "source": [
    "# **DAY 3**\n",
    "###### *Przygotuj funkcję **reverse_string**, która zwróci ciąg znaków w odwrotnej kolejności*"
   ]
  },
  {
   "cell_type": "code",
   "execution_count": null,
   "metadata": {},
   "outputs": [],
   "source": [
    "# Solution 1\n",
    "\n",
    "def reverse_string(string):\n",
    "    return(string[::-1])"
   ]
  },
  {
   "cell_type": "markdown",
   "metadata": {},
   "source": [
    "# **DAY 4**\n",
    "###### *Przygotuj funkcję **gerund_infinitive**, która do otrzymanego czasownika zwraca bezokolicznik z przedrostkiem \"to\" (np. doing -> to do). <br>Jeśli słowo nie kończy się na \"ing\", zwróć \"To nie jest rzeczownik odsłowny!\"*"
   ]
  },
  {
   "cell_type": "code",
   "execution_count": null,
   "metadata": {},
   "outputs": [],
   "source": [
    "# Solution 1\n",
    "\n",
    "from nltk.stem import PorterStemmer as PS\n",
    "\n",
    "def gerund_infinitive_1(string):\n",
    "    \n",
    "    if string.isalpha() == True and string[-3::] == \"ing\":\n",
    "        return(f\"To {PS().stem(string).title()}\")\n",
    "    else:\n",
    "        return(\"To nie jest czasownik odsłowny!\")"
   ]
  },
  {
   "cell_type": "code",
   "execution_count": null,
   "metadata": {},
   "outputs": [],
   "source": [
    "words = (\"sing\", \"dying\", \"singing\", \"swimming\", \n",
    "         \"smiling\", \"living\", \"123abc\", \"123abcing\", \n",
    "         \"Makarony Są Smaczneing\", \"abcing\",  \n",
    "         \"MakaronySąSmaczneing\")\n",
    "\n",
    "for word in words:\n",
    "    print(gerund_infinitive_1(word))"
   ]
  },
  {
   "cell_type": "code",
   "execution_count": null,
   "metadata": {},
   "outputs": [],
   "source": [
    "# Solution 2\n",
    "\n",
    "import spacy\n",
    "\n",
    "nlp = spacy.load('en_core_web_sm')\n",
    "\n",
    "def gerund_infinitive_2(string):\n",
    "    doc = nlp(string)\n",
    "    for token in doc:\n",
    "        if token.pos_ == \"VERB\":\n",
    "            return(f\"To {PS().stem(token.lemma_).title()}\")\n",
    "        else:\n",
    "            return(\"To nie jest czasownik odsłowny!\")\n"
   ]
  },
  {
   "cell_type": "code",
   "execution_count": null,
   "metadata": {},
   "outputs": [],
   "source": [
    "words = (\"sing\", \"dying\", \"singing\", \"swimming\", \n",
    "         \"smiling\", \"living\", \"123abc\", \"123abcing\", \n",
    "         \"Makarony Są Smaczneing\", \"abcing\",  \n",
    "         \"MakaronySąSmaczneing\")\n",
    "\n",
    "for word in words:\n",
    "    print(gerund_infinitive_2(word))"
   ]
  },
  {
   "cell_type": "markdown",
   "metadata": {},
   "source": [
    "# **DAY 7**\n",
    "###### *Stwórz funckję **capital_indexes**, która przyjmuje ciąg znaków (string) jako jedyny argument. <br>Twoja funkcja powinna zwracać listę indeksów w tym ciągu, które są napisane z wielkich liter.*"
   ]
  },
  {
   "cell_type": "code",
   "execution_count": 1,
   "metadata": {},
   "outputs": [],
   "source": [
    "# Solution 1\n",
    "\n",
    "def capital_indexes(string):\n",
    "    return [string.index(letter) for letter in string if letter.isalpha() and letter == letter.upper()]"
   ]
  },
  {
   "cell_type": "code",
   "execution_count": 2,
   "metadata": {},
   "outputs": [
    {
     "data": {
      "text/plain": [
       "[0, 2, 4]"
      ]
     },
     "execution_count": 2,
     "metadata": {},
     "output_type": "execute_result"
    }
   ],
   "source": [
    "capital_indexes(\"MaKaRon_+123\")"
   ]
  },
  {
   "cell_type": "markdown",
   "metadata": {},
   "source": [
    "# **DAY 8**\n",
    "###### *Przygotuj funkcję **womansday**, która spyta użytkownika o imię. <br>Jeśli będzie ono kończyło się na \"a\", złoży użytkownikowi życzenia na Dzień Kobiet. W przeciwnym razie, wykona inną czynność (bądź kreatywny).*"
   ]
  },
  {
   "cell_type": "code",
   "execution_count": 1,
   "metadata": {},
   "outputs": [],
   "source": [
    "# Solution 1\n",
    "\n",
    "def womansday():\n",
    "    \n",
    "    male_names = [\n",
    "        \"Atylla\",\"Barnaba\",\"Bogowidza\",\n",
    "        \"Bonawentura\",\"Boruta\",\"Brzezdoma\",\n",
    "        \"Dyzma\",\"Jarema\",\"Kosma\",\"Kuba\",\"Lasota\",\n",
    "        \"Mustafa\",\"Niedoma\",\"Niegodoma\",\"Niemsta\",\n",
    "        \"Niepełka\",\"Niewsza\",\"Przezdoma\",\"Rokita\",\n",
    "        \"Zawisza\",\"Żegota\"]\n",
    "    \n",
    "    while True:\n",
    "        try:\n",
    "            name = input(\"Podaj swoje imię: \")\n",
    "            \n",
    "            if name.isalpha():\n",
    "                break\n",
    "            else:\n",
    "                print(\"Podaj swoje imię poprawnie!\")\n",
    "        except ValueError:\n",
    "            continue\n",
    "    \n",
    "    if name[-1] == \"a\" and name.title() not in male_names:\n",
    "        return(f\"Cześć {name}! Wszystkiego najlepszego z okazji Dnia Kobiet!\")\n",
    "    else:\n",
    "        return(f\"Ej {name}! Kup kwiaty albo chociaż ugotuj makaron...\")\n",
    "        "
   ]
  },
  {
   "cell_type": "markdown",
   "metadata": {},
   "source": [
    "# **DAY 9**\n",
    "###### *Utwórz funkcję **mid**, która przyjmuje ciąg znaków (string) jako argument. <br>Powinna zwrócić jego środkowy element. Jeśli ilość znaków jest parzysta (brak środkowego elementu), funkcja powinna zwracać \"\"*"
   ]
  },
  {
   "cell_type": "code",
   "execution_count": 36,
   "metadata": {},
   "outputs": [],
   "source": [
    "# Solution 1\n",
    "\n",
    "def mid(string):\n",
    "    if isinstance(string, str):\n",
    "        if len(string) % 2 == 0:\n",
    "            return \"\"\n",
    "        else:\n",
    "            return string[len(string)//2]\n",
    "    else:\n",
    "        return \"This is not a string!\""
   ]
  },
  {
   "cell_type": "markdown",
   "metadata": {},
   "source": [
    "# **DAY 10**\n",
    "###### *Stwórz generator śmiesznych imion i nazwisk męskich*"
   ]
  },
  {
   "cell_type": "code",
   "execution_count": 1,
   "metadata": {},
   "outputs": [
    {
     "data": {
      "text/plain": [
       "<spacy_syllables.SpacySyllables at 0x15eae8a1820>"
      ]
     },
     "execution_count": 1,
     "metadata": {},
     "output_type": "execute_result"
    }
   ],
   "source": [
    "import json\n",
    "import spacy\n",
    "import random\n",
    "from spacy_syllables import SpacySyllables\n",
    "\n",
    "nlp = spacy.load('pl_core_news_sm')\n",
    "nlp.add_pipe('syllables', after='tagger')"
   ]
  },
  {
   "cell_type": "code",
   "execution_count": 2,
   "metadata": {},
   "outputs": [],
   "source": [
    "names = json.loads(open(\"name_list.json\", encoding=\"utf-8\").read())\n",
    "surnames = json.loads(open(\"surname_list.json\", encoding=\"utf-8\").read())"
   ]
  },
  {
   "cell_type": "code",
   "execution_count": 5,
   "metadata": {},
   "outputs": [],
   "source": [
    "doc = nlp('patryk')\n",
    "\n",
    "data = [(token.text, token._.syllables, token._.syllables_count)\n",
    "        for token in doc]\n",
    "\n",
    "sylaby = [(token._.syllables) for token in doc]"
   ]
  },
  {
   "cell_type": "code",
   "execution_count": 6,
   "metadata": {},
   "outputs": [
    {
     "data": {
      "text/plain": [
       "[('patryk', ['pa', 'tryk'], 2)]"
      ]
     },
     "execution_count": 6,
     "metadata": {},
     "output_type": "execute_result"
    }
   ],
   "source": [
    "data"
   ]
  },
  {
   "cell_type": "code",
   "execution_count": null,
   "metadata": {},
   "outputs": [],
   "source": []
  },
  {
   "cell_type": "code",
   "execution_count": null,
   "metadata": {},
   "outputs": [],
   "source": []
  },
  {
   "cell_type": "code",
   "execution_count": null,
   "metadata": {},
   "outputs": [],
   "source": []
  },
  {
   "cell_type": "code",
   "execution_count": 119,
   "metadata": {},
   "outputs": [],
   "source": [
    "def name_gen():\n",
    "    names = json.loads(open(\"name_list.json\", encoding=\"utf-8\").read())\n",
    "    surnames = json.loads(open(\"surname_list.json\", encoding=\"utf-8\").read())\n",
    "    \n",
    "    used_names = []\n",
    "    used_suernames = []\n",
    "    \n",
    "    final_name = \"\"\n",
    "    final_surname = \"\"\n",
    "    # Creating name\n",
    "#     for x in range(random.randint(2,3)):\n",
    "    for x in range(2):\n",
    "        if x == 0:\n",
    "            random_name = random.choice(names).lower()\n",
    "            \n",
    "            doc = nlp(random_name)\n",
    "            \n",
    "            name_data = [\n",
    "                (token._.syllables, token._.syllables_count)\n",
    "                for token in doc]\n",
    "            \n",
    "            name_syllables_list = name_data[0][0]\n",
    "            \n",
    "            final_name += name_syllables_list[0].title()\n",
    "            \n",
    "            used_names.append(random_name)\n",
    "        \n",
    "        else:\n",
    "            random_name = random.choice(names).lower()\n",
    "            \n",
    "            doc = nlp(random_name)\n",
    "            \n",
    "            name_data = [\n",
    "                (token._.syllables, token._.syllables_count)\n",
    "                for token in doc]\n",
    "            \n",
    "            name_syllables_count = name_data[0][1]\n",
    "            name_syllables_list = name_data[0][0]\n",
    "            \n",
    "            final_name += random.choice(name_syllables_list)\n",
    "            \n",
    "            used_names.append(random_name)\n",
    "    \n",
    "    if final_name[-1] == \"a\" or final_name[-1] == \"ó\":\n",
    "        final_name = final_name[:-1]\n",
    "            \n",
    "    return final_name, used_names"
   ]
  },
  {
   "cell_type": "code",
   "execution_count": 120,
   "metadata": {},
   "outputs": [
    {
     "name": "stdout",
     "output_type": "stream",
     "text": [
      "('Paeryk', ['paweł', 'eryk'])\n",
      "('Macjan', ['mateusz', 'gracjan'])\n",
      "('Wikg', ['wiktor', 'gabriel'])\n",
      "('Gaolaf', ['gabriel', 'olaf'])\n",
      "('Guwoj', ['gustaw', 'wojciech'])\n",
      "('Febł', ['feliks', 'błażej'])\n",
      "('Konwe', ['konrad', 'ksawery'])\n",
      "('Tocjan', ['tomasz', 'gracjan'])\n",
      "('Łum', ['łukasz', 'marek'])\n",
      "('Ksani', ['ksawery', 'stanisław'])\n"
     ]
    }
   ],
   "source": [
    "for x in range(10):\n",
    "    print(name_gen())"
   ]
  },
  {
   "cell_type": "code",
   "execution_count": null,
   "metadata": {},
   "outputs": [],
   "source": []
  },
  {
   "cell_type": "code",
   "execution_count": null,
   "metadata": {},
   "outputs": [],
   "source": []
  },
  {
   "cell_type": "code",
   "execution_count": null,
   "metadata": {},
   "outputs": [],
   "source": []
  },
  {
   "cell_type": "code",
   "execution_count": null,
   "metadata": {},
   "outputs": [],
   "source": []
  },
  {
   "cell_type": "markdown",
   "metadata": {},
   "source": [
    "# **DAY 11**\n",
    "###### *Dwa ciągi znaków to **anagramy**, jeśli możesz utworzyć jeden z nich, przestawiając jedynie litery drugiego.<br>Napisz funkcję o nazwie **is_anagram**, która jako parametry przyjmuje dwa łańcuchy.<br>Twoja Funkcja powinna zwrócić **True**, jeśli łańcuchy są anagramami oraz **False** w przeciwnym razie.*"
   ]
  },
  {
   "cell_type": "code",
   "execution_count": 2,
   "metadata": {},
   "outputs": [],
   "source": [
    "# Solution 1\n",
    "\n",
    "def is_anagram_1(string_1, string_2):\n",
    "    return sorted(string_1.lower()) == sorted(string_2.lower())\n"
   ]
  },
  {
   "cell_type": "code",
   "execution_count": 89,
   "metadata": {},
   "outputs": [],
   "source": [
    "# Solution 2\n",
    "\n",
    "def is_anagram_2(string_1, string_2):\n",
    "    text_1 = list(string_1.lower())\n",
    "    text_2 = list(string_2.lower())\n",
    "    \n",
    "    if len(text_1) == len(text_2) and text_1 != text_2:   \n",
    "        for char in text_1:\n",
    "            if char in text_2:\n",
    "                text_2.pop(text_2.index(char))\n",
    "            else:\n",
    "                return False      \n",
    "        return True\n",
    "    else:\n",
    "        return False"
   ]
  },
  {
   "cell_type": "code",
   "execution_count": null,
   "metadata": {},
   "outputs": [],
   "source": []
  },
  {
   "cell_type": "code",
   "execution_count": null,
   "metadata": {},
   "outputs": [],
   "source": []
  },
  {
   "cell_type": "code",
   "execution_count": null,
   "metadata": {},
   "outputs": [],
   "source": []
  },
  {
   "cell_type": "code",
   "execution_count": null,
   "metadata": {},
   "outputs": [],
   "source": []
  }
 ],
 "metadata": {
  "kernelspec": {
   "display_name": "Python 3",
   "language": "python",
   "name": "python3"
  },
  "language_info": {
   "codemirror_mode": {
    "name": "ipython",
    "version": 3
   },
   "file_extension": ".py",
   "mimetype": "text/x-python",
   "name": "python",
   "nbconvert_exporter": "python",
   "pygments_lexer": "ipython3",
   "version": "3.8.5"
  }
 },
 "nbformat": 4,
 "nbformat_minor": 4
}
